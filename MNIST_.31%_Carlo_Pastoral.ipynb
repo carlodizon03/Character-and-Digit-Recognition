{
 "cells": [
  {
   "cell_type": "code",
   "execution_count": 74,
   "metadata": {},
   "outputs": [],
   "source": [
    "import numpy as np\n",
    "import tensorflow as tf\n",
    "import tensorflow_datasets as tfds\n"
   ]
  },
  {
   "cell_type": "code",
   "execution_count": 75,
   "metadata": {},
   "outputs": [],
   "source": [
    "(ds_train, ds_test), ds_info = tfds.load(\n",
    "    'mnist',\n",
    "    split=['train', 'test'],\n",
    "    shuffle_files=True,\n",
    "    as_supervised=True,\n",
    "    with_info=True,\n",
    ")\n",
    "\n",
    "def normalize_img(image, label):\n",
    "  return tf.cast(image, tf.float32) / 255., label\n",
    "\n",
    "ds_train = ds_train.cache()\n",
    "ds_train = ds_train.batch(128)\n",
    "ds_train = ds_train.map(normalize_img, num_parallel_calls=tf.data.experimental.AUTOTUNE)\n",
    "ds_train = ds_train.prefetch(tf.data.experimental.AUTOTUNE)\n",
    "\n",
    "ds_test = ds_test.map(normalize_img, num_parallel_calls=tf.data.experimental.AUTOTUNE)\n",
    "ds_test = ds_test.batch(128)\n",
    "ds_test = ds_test.cache()\n",
    "ds_test = ds_test.prefetch(tf.data.experimental.AUTOTUNE)"
   ]
  },
  {
   "cell_type": "code",
   "execution_count": 76,
   "metadata": {},
   "outputs": [
    {
     "output_type": "stream",
     "name": "stdout",
     "text": "Epoch 1/5\n469/469 [==============================] - 4s 9ms/step - loss: 0.4443 - accuracy: 0.8831 - val_loss: 0.0000e+00 - val_accuracy: 0.0000e+00\nEpoch 2/5\n469/469 [==============================] - 2s 5ms/step - loss: 0.1952 - accuracy: 0.9461 - val_loss: 0.1540 - val_accuracy: 0.9552\nEpoch 3/5\n469/469 [==============================] - 2s 5ms/step - loss: 0.1422 - accuracy: 0.9597 - val_loss: 0.1270 - val_accuracy: 0.9623\nEpoch 4/5\n469/469 [==============================] - 2s 5ms/step - loss: 0.1117 - accuracy: 0.9683 - val_loss: 0.1113 - val_accuracy: 0.9663\nEpoch 5/5\n469/469 [==============================] - 2s 4ms/step - loss: 0.0911 - accuracy: 0.9749 - val_loss: 0.1004 - val_accuracy: 0.9689\n"
    },
    {
     "output_type": "execute_result",
     "data": {
      "text/plain": "<tensorflow.python.keras.callbacks.History at 0x13e07894588>"
     },
     "metadata": {},
     "execution_count": 76
    }
   ],
   "source": [
    "model = tf.keras.models.Sequential([\n",
    "  tf.keras.layers.Flatten(input_shape=(28, 28, 1)),\n",
    "  tf.keras.layers.Dense(128,activation='relu'),\n",
    "  tf.keras.layers.Dense(62, activation='softmax')\n",
    "])\n",
    "model.compile(\n",
    "    loss='sparse_categorical_crossentropy',\n",
    "    optimizer=tf.keras.optimizers.Adam(0.001),\n",
    "    metrics=['accuracy'],\n",
    ")\n",
    "\n",
    "model.fit(\n",
    "    ds_train,\n",
    "    epochs=5,\n",
    "    validation_data=ds_test,\n",
    ")"
   ]
  },
  {
   "cell_type": "code",
   "execution_count": 79,
   "metadata": {},
   "outputs": [],
   "source": [
    "model.save('MNIST_.31%_Carlo_Pastoral.h5')"
   ]
  },
  {
   "cell_type": "code",
   "execution_count": 78,
   "metadata": {},
   "outputs": [
    {
     "output_type": "stream",
     "name": "stdout",
     "text": "79/79 - 0s - loss: 0.1004 - accuracy: 0.9689\n\nTest accuracy: 0.9689\n[0 7 9 9 9 6 5 8 8 6]\n[0 7 9 9 9 6 5 8 8 6]\n"
    }
   ],
   "source": [
    "test_loss, test_acc = model.evaluate(ds_test, verbose=2)\n",
    "print('\\nTest accuracy:', test_acc)\n",
    "\n",
    "image, label = tfds.as_numpy(tfds.load(\n",
    "    'mnist',\n",
    "    split='test', \n",
    "    batch_size=-1, \n",
    "    as_supervised=True,\n",
    "))\n",
    "\n",
    "predictions = model.predict(image) \n",
    "print(np.argmax(predictions[50:60],axis=1))\n",
    "print(label[50:60])"
   ]
  },
  {
   "cell_type": "code",
   "execution_count": null,
   "metadata": {},
   "outputs": [],
   "source": []
  }
 ],
 "metadata": {
  "language_info": {
   "codemirror_mode": {
    "name": "ipython",
    "version": 3
   },
   "file_extension": ".py",
   "mimetype": "text/x-python",
   "name": "python",
   "nbconvert_exporter": "python",
   "pygments_lexer": "ipython3",
   "version": "3.6.10-final"
  },
  "orig_nbformat": 2,
  "kernelspec": {
   "name": "python361064bitnewenvconda3810ae9c45074764af7d353908f5eb47",
   "display_name": "Python 3.6.10 64-bit ('newEnv': conda)"
  }
 },
 "nbformat": 4,
 "nbformat_minor": 2
}